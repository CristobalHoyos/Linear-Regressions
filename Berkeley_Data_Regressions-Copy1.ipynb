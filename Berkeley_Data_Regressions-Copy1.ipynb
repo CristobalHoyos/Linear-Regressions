{
 "cells": [
  {
   "cell_type": "code",
   "execution_count": 7,
   "id": "24692c1c",
   "metadata": {},
   "outputs": [
    {
     "name": "stderr",
     "output_type": "stream",
     "text": [
      "C:\\Users\\Administrador2\\AppData\\Local\\Temp\\ipykernel_15160\\2985772144.py:4: DtypeWarning: Columns (8) have mixed types. Specify dtype option on import or set low_memory=False.\n",
      "  df = pd.read_csv(\"Main_Berkeley_Data-Copy1.csv\")\n"
     ]
    }
   ],
   "source": [
    "import pandas as pd\n",
    "import matplotlib.pyplot as plt\n",
    "\n",
    "df = pd.read_csv(\"Main_Berkeley_Data-Copy1.csv\")\n"
   ]
  },
  {
   "cell_type": "code",
   "execution_count": 8,
   "id": "f604cc1c",
   "metadata": {},
   "outputs": [
    {
     "data": {
      "text/html": [
       "<div>\n",
       "<style scoped>\n",
       "    .dataframe tbody tr th:only-of-type {\n",
       "        vertical-align: middle;\n",
       "    }\n",
       "\n",
       "    .dataframe tbody tr th {\n",
       "        vertical-align: top;\n",
       "    }\n",
       "\n",
       "    .dataframe thead th {\n",
       "        text-align: right;\n",
       "    }\n",
       "</style>\n",
       "<table border=\"1\" class=\"dataframe\">\n",
       "  <thead>\n",
       "    <tr style=\"text-align: right;\">\n",
       "      <th></th>\n",
       "      <th>YEAR</th>\n",
       "      <th>INDCAT</th>\n",
       "      <th>INCOME</th>\n",
       "      <th>WAGEINC</th>\n",
       "      <th>DEBT2INC</th>\n",
       "      <th>DEBT</th>\n",
       "      <th>NETWORTH</th>\n",
       "      <th>EDCL</th>\n",
       "    </tr>\n",
       "  </thead>\n",
       "  <tbody>\n",
       "    <tr>\n",
       "      <th>count</th>\n",
       "      <td>238880.000000</td>\n",
       "      <td>238880.000000</td>\n",
       "      <td>2.388800e+05</td>\n",
       "      <td>2.388800e+05</td>\n",
       "      <td>238880.000000</td>\n",
       "      <td>2.388800e+05</td>\n",
       "      <td>2.388800e+05</td>\n",
       "      <td>238880.000000</td>\n",
       "    </tr>\n",
       "    <tr>\n",
       "      <th>mean</th>\n",
       "      <td>2004.196542</td>\n",
       "      <td>2.350540</td>\n",
       "      <td>7.596447e+05</td>\n",
       "      <td>1.613354e+05</td>\n",
       "      <td>2.580740</td>\n",
       "      <td>2.612375e+05</td>\n",
       "      <td>9.378397e+06</td>\n",
       "      <td>2.916427</td>\n",
       "    </tr>\n",
       "    <tr>\n",
       "      <th>std</th>\n",
       "      <td>8.523608</td>\n",
       "      <td>1.057611</td>\n",
       "      <td>5.337825e+06</td>\n",
       "      <td>1.209580e+06</td>\n",
       "      <td>293.009388</td>\n",
       "      <td>2.554587e+06</td>\n",
       "      <td>5.050908e+07</td>\n",
       "      <td>1.060736</td>\n",
       "    </tr>\n",
       "    <tr>\n",
       "      <th>min</th>\n",
       "      <td>1989.000000</td>\n",
       "      <td>1.000000</td>\n",
       "      <td>0.000000e+00</td>\n",
       "      <td>-9.614621e+04</td>\n",
       "      <td>0.000000</td>\n",
       "      <td>0.000000e+00</td>\n",
       "      <td>-2.340803e+08</td>\n",
       "      <td>1.000000</td>\n",
       "    </tr>\n",
       "    <tr>\n",
       "      <th>25%</th>\n",
       "      <td>1998.000000</td>\n",
       "      <td>2.000000</td>\n",
       "      <td>3.240437e+04</td>\n",
       "      <td>0.000000e+00</td>\n",
       "      <td>0.000000</td>\n",
       "      <td>0.000000e+00</td>\n",
       "      <td>2.322932e+04</td>\n",
       "      <td>2.000000</td>\n",
       "    </tr>\n",
       "    <tr>\n",
       "      <th>50%</th>\n",
       "      <td>2004.000000</td>\n",
       "      <td>2.000000</td>\n",
       "      <td>7.010760e+04</td>\n",
       "      <td>4.089610e+04</td>\n",
       "      <td>0.345843</td>\n",
       "      <td>2.561099e+04</td>\n",
       "      <td>2.080907e+05</td>\n",
       "      <td>3.000000</td>\n",
       "    </tr>\n",
       "    <tr>\n",
       "      <th>75%</th>\n",
       "      <td>2013.000000</td>\n",
       "      <td>4.000000</td>\n",
       "      <td>1.733216e+05</td>\n",
       "      <td>1.010351e+05</td>\n",
       "      <td>1.372051</td>\n",
       "      <td>1.579799e+05</td>\n",
       "      <td>1.351380e+06</td>\n",
       "      <td>4.000000</td>\n",
       "    </tr>\n",
       "    <tr>\n",
       "      <th>max</th>\n",
       "      <td>2016.000000</td>\n",
       "      <td>4.000000</td>\n",
       "      <td>3.993023e+08</td>\n",
       "      <td>1.115575e+08</td>\n",
       "      <td>64008.372978</td>\n",
       "      <td>2.934870e+08</td>\n",
       "      <td>2.928346e+09</td>\n",
       "      <td>4.000000</td>\n",
       "    </tr>\n",
       "  </tbody>\n",
       "</table>\n",
       "</div>"
      ],
      "text/plain": [
       "                YEAR         INDCAT        INCOME       WAGEINC  \\\n",
       "count  238880.000000  238880.000000  2.388800e+05  2.388800e+05   \n",
       "mean     2004.196542       2.350540  7.596447e+05  1.613354e+05   \n",
       "std         8.523608       1.057611  5.337825e+06  1.209580e+06   \n",
       "min      1989.000000       1.000000  0.000000e+00 -9.614621e+04   \n",
       "25%      1998.000000       2.000000  3.240437e+04  0.000000e+00   \n",
       "50%      2004.000000       2.000000  7.010760e+04  4.089610e+04   \n",
       "75%      2013.000000       4.000000  1.733216e+05  1.010351e+05   \n",
       "max      2016.000000       4.000000  3.993023e+08  1.115575e+08   \n",
       "\n",
       "            DEBT2INC          DEBT      NETWORTH           EDCL  \n",
       "count  238880.000000  2.388800e+05  2.388800e+05  238880.000000  \n",
       "mean        2.580740  2.612375e+05  9.378397e+06       2.916427  \n",
       "std       293.009388  2.554587e+06  5.050908e+07       1.060736  \n",
       "min         0.000000  0.000000e+00 -2.340803e+08       1.000000  \n",
       "25%         0.000000  0.000000e+00  2.322932e+04       2.000000  \n",
       "50%         0.345843  2.561099e+04  2.080907e+05       3.000000  \n",
       "75%         1.372051  1.579799e+05  1.351380e+06       4.000000  \n",
       "max     64008.372978  2.934870e+08  2.928346e+09       4.000000  "
      ]
     },
     "execution_count": 8,
     "metadata": {},
     "output_type": "execute_result"
    }
   ],
   "source": [
    "df.describe()"
   ]
  },
  {
   "cell_type": "code",
   "execution_count": 9,
   "id": "9d2b4202",
   "metadata": {},
   "outputs": [],
   "source": [
    "import numpy as np\n",
    "import statsmodels.api as sm"
   ]
  },
  {
   "cell_type": "code",
   "execution_count": 11,
   "id": "dcd7bded",
   "metadata": {},
   "outputs": [
    {
     "name": "stdout",
     "output_type": "stream",
     "text": [
      "5.270583653197695\n",
      "5374625.978696722\n"
     ]
    }
   ],
   "source": [
    "x_ary = df[\"INCOME\"]\n",
    "x_with_cnst = sm.add_constant(x_ary)\n",
    "model = sm.OLS(df[\"NETWORTH\"], x_with_cnst)\n",
    "results = model.fit()\n",
    "b, m = results.params\n",
    "print(m)\n",
    "print(b)"
   ]
  },
  {
   "cell_type": "code",
   "execution_count": 12,
   "id": "1fe00974",
   "metadata": {},
   "outputs": [
    {
     "name": "stdout",
     "output_type": "stream",
     "text": [
      "                            OLS Regression Results                            \n",
      "==============================================================================\n",
      "Dep. Variable:               NETWORTH   R-squared:                       0.310\n",
      "Model:                            OLS   Adj. R-squared:                  0.310\n",
      "Method:                 Least Squares   F-statistic:                 1.074e+05\n",
      "Date:                Mon, 11 Jul 2022   Prob (F-statistic):               0.00\n",
      "Time:                        13:56:41   Log-Likelihood:            -4.5318e+06\n",
      "No. Observations:              238880   AIC:                         9.064e+06\n",
      "Df Residuals:                  238878   BIC:                         9.064e+06\n",
      "Df Model:                           1                                         \n",
      "Covariance Type:            nonrobust                                         \n",
      "==============================================================================\n",
      "                 coef    std err          t      P>|t|      [0.025      0.975]\n",
      "------------------------------------------------------------------------------\n",
      "const       5.375e+06   8.67e+04     61.996      0.000     5.2e+06    5.54e+06\n",
      "INCOME         5.2706      0.016    327.789      0.000       5.239       5.302\n",
      "==============================================================================\n",
      "Omnibus:                   394881.633   Durbin-Watson:                   0.485\n",
      "Prob(Omnibus):                  0.000   Jarque-Bera (JB):       1445241384.350\n",
      "Skew:                          10.504   Prob(JB):                         0.00\n",
      "Kurtosis:                     383.474   Cond. No.                     5.45e+06\n",
      "==============================================================================\n",
      "\n",
      "Notes:\n",
      "[1] Standard Errors assume that the covariance matrix of the errors is correctly specified.\n",
      "[2] The condition number is large, 5.45e+06. This might indicate that there are\n",
      "strong multicollinearity or other numerical problems.\n"
     ]
    }
   ],
   "source": [
    "print(results.summary())"
   ]
  },
  {
   "cell_type": "code",
   "execution_count": 14,
   "id": "9846ba0a",
   "metadata": {},
   "outputs": [
    {
     "data": {
      "text/plain": [
       "[<matplotlib.lines.Line2D at 0x220b4bda1c0>]"
      ]
     },
     "execution_count": 14,
     "metadata": {},
     "output_type": "execute_result"
    },
    {
     "data": {
      "image/png": "[encoded data removed]",
      "text/plain": [
       "<Figure size 720x360 with 1 Axes>"
      ]
     },
     "metadata": {
      "needs_background": "light"
     },
     "output_type": "display_data"
    }
   ],
   "source": [
    "plt.figure(figsize = (10,5))\n",
    "plt.scatter(df[\"INCOME\"], df[\"NETWORTH\"])\n",
    "plt.plot(x_ary, m*x_ary+b, color = \"orange\")"
   ]
  },
  {
   "cell_type": "code",
   "execution_count": null,
   "id": "80531de5",
   "metadata": {},
   "outputs": [],
   "source": []
  }
 ],
 "metadata": {
  "kernelspec": {
   "display_name": "Python 3 (ipykernel)",
   "language": "python",
   "name": "python3"
  },
  "language_info": {
   "codemirror_mode": {
    "name": "ipython",
    "version": 3
   },
   "file_extension": ".py",
   "mimetype": "text/x-python",
   "name": "python",
   "nbconvert_exporter": "python",
   "pygments_lexer": "ipython3",
   "version": "3.9.12"
  }
 },
 "nbformat": 4,
 "nbformat_minor": 5
}
